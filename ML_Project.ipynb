{
 "cells": [
  {
   "cell_type": "markdown",
   "id": "1ee69610",
   "metadata": {},
   "source": [
    "**Assignment 1 – End-to-end Machine Learning project**\n",
    "\n",
    "Data Science Lifecycle"
   ]
  },
  {
   "cell_type": "markdown",
   "id": "8c916048",
   "metadata": {},
   "source": [
    "# Step 1: Problem Formulation"
   ]
  },
  {
   "cell_type": "markdown",
   "id": "de0fab48",
   "metadata": {},
   "source": [
    "The diamond industry is growing ~5% year on year, and the expertise required to define accurate prices has been limited to a few gemologists, making the process prone to discrepancies and inefficiencies. To maintain fair commerce and buyer trust, there needs to be a system that can accurately determine the price of a diamond based on various elements, including physical traits and quality parameters such as carat, cut, color, clarity, and dimensions (length, width, and depth).\n",
    "\n",
    "\n",
    "\n"
   ]
  },
  {
   "cell_type": "markdown",
   "id": "ef014aa7",
   "metadata": {},
   "source": [
    "**Objective:** To create a ML model that uses a diamond's carat, cut, color, clarity, and dimensions (length, width, and depth) to predict its price."
   ]
  }
 ],
 "metadata": {
  "language_info": {
   "name": "python"
  }
 },
 "nbformat": 4,
 "nbformat_minor": 5
}
